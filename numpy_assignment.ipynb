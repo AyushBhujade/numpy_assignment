{
 "cells": [
  {
   "cell_type": "code",
   "execution_count": 1,
   "id": "2690691a-c2f4-4dd5-8359-3cd89df9e88c",
   "metadata": {},
   "outputs": [],
   "source": [
    "import numpy as np"
   ]
  },
  {
   "cell_type": "code",
   "execution_count": 5,
   "id": "ce4e7f39-af0b-4629-bd7b-c4e85be3ecc2",
   "metadata": {},
   "outputs": [],
   "source": [
    "\n",
    "list_ = [ '1' , '2' , '3' , '4' , '5' ]\n",
    "array_list = np.array(object=list_)"
   ]
  },
  {
   "cell_type": "markdown",
   "id": "5b02674c-eb8b-43ab-8f31-69224137e3ba",
   "metadata": {},
   "source": [
    "quation 1:"
   ]
  },
  {
   "cell_type": "markdown",
   "id": "9aa509d0-0bf2-4ffe-bf65-cc7e83bdda4a",
   "metadata": {},
   "source": [
    "yes list_ is list data structure and array_list is array data structure"
   ]
  },
  {
   "cell_type": "code",
   "execution_count": 6,
   "id": "2e3db14c-00ff-41cd-b6b8-ab649c7e8cce",
   "metadata": {},
   "outputs": [
    {
     "data": {
      "text/plain": [
       "list"
      ]
     },
     "execution_count": 6,
     "metadata": {},
     "output_type": "execute_result"
    }
   ],
   "source": [
    "type(list_)"
   ]
  },
  {
   "cell_type": "code",
   "execution_count": 7,
   "id": "597e4b80-70c1-483e-be13-20e4d6752daa",
   "metadata": {},
   "outputs": [
    {
     "data": {
      "text/plain": [
       "numpy.ndarray"
      ]
     },
     "execution_count": 7,
     "metadata": {},
     "output_type": "execute_result"
    }
   ],
   "source": [
    "type(array_list)"
   ]
  },
  {
   "cell_type": "markdown",
   "id": "7ce27151-8b74-4de1-9eee-ed8e1075493a",
   "metadata": {},
   "source": [
    "quation 2:"
   ]
  },
  {
   "cell_type": "code",
   "execution_count": 14,
   "id": "8577f177-da7d-400b-847a-ac17cd229dab",
   "metadata": {},
   "outputs": [
    {
     "name": "stdout",
     "output_type": "stream",
     "text": [
      "<class 'str'>\n",
      "<class 'str'>\n",
      "<class 'str'>\n",
      "<class 'str'>\n",
      "<class 'str'>\n"
     ]
    }
   ],
   "source": [
    "for i in list_:\n",
    "    print(type(i))"
   ]
  },
  {
   "cell_type": "code",
   "execution_count": 15,
   "id": "60129639-a272-4df7-a397-438e47fd5e46",
   "metadata": {},
   "outputs": [
    {
     "name": "stdout",
     "output_type": "stream",
     "text": [
      "<class 'numpy.str_'>\n",
      "<class 'numpy.str_'>\n",
      "<class 'numpy.str_'>\n",
      "<class 'numpy.str_'>\n",
      "<class 'numpy.str_'>\n"
     ]
    }
   ],
   "source": [
    "for i in array_list:\n",
    "    print(type(i))"
   ]
  },
  {
   "cell_type": "markdown",
   "id": "cefff2d4-05db-4dd8-a2ac-2f59db0a3dd4",
   "metadata": {},
   "source": [
    "quation 3:"
   ]
  },
  {
   "cell_type": "code",
   "execution_count": 16,
   "id": "39d93270-b214-42d0-b91d-3ffc16a136e5",
   "metadata": {},
   "outputs": [],
   "source": [
    "array_list = np.array(object = list_, dtype = int)"
   ]
  },
  {
   "cell_type": "code",
   "execution_count": 19,
   "id": "10aa5d0a-ddda-4926-8029-578204ecd8df",
   "metadata": {},
   "outputs": [
    {
     "data": {
      "text/plain": [
       "numpy.ndarray"
      ]
     },
     "execution_count": 19,
     "metadata": {},
     "output_type": "execute_result"
    }
   ],
   "source": [
    "type(array_list)"
   ]
  },
  {
   "cell_type": "code",
   "execution_count": 20,
   "id": "8084cc08-5923-4144-8cba-dc2f7c91e391",
   "metadata": {},
   "outputs": [
    {
     "data": {
      "text/plain": [
       "list"
      ]
     },
     "execution_count": 20,
     "metadata": {},
     "output_type": "execute_result"
    }
   ],
   "source": [
    "type(list_)"
   ]
  },
  {
   "cell_type": "code",
   "execution_count": 21,
   "id": "8ce226ef-af7d-446e-a1bd-44b9430557f3",
   "metadata": {},
   "outputs": [
    {
     "name": "stdout",
     "output_type": "stream",
     "text": [
      "<class 'numpy.int64'>\n",
      "<class 'numpy.int64'>\n",
      "<class 'numpy.int64'>\n",
      "<class 'numpy.int64'>\n",
      "<class 'numpy.int64'>\n"
     ]
    }
   ],
   "source": [
    "for i in array_list:\n",
    "    print(type(i))"
   ]
  },
  {
   "cell_type": "code",
   "execution_count": 22,
   "id": "b369f40e-55f3-4840-88bd-d5a499cd445e",
   "metadata": {},
   "outputs": [
    {
     "name": "stdout",
     "output_type": "stream",
     "text": [
      "<class 'str'>\n",
      "<class 'str'>\n",
      "<class 'str'>\n",
      "<class 'str'>\n",
      "<class 'str'>\n"
     ]
    }
   ],
   "source": [
    "for i in list_:\n",
    "    print(type(i))"
   ]
  },
  {
   "cell_type": "markdown",
   "id": "4077b4db-b249-4363-8b5c-79b72456b440",
   "metadata": {},
   "source": [
    "quation 4:"
   ]
  },
  {
   "cell_type": "code",
   "execution_count": 23,
   "id": "337c9948-f8bb-4fd1-a6e7-0d0188af02b6",
   "metadata": {},
   "outputs": [],
   "source": [
    "import numpy as np\n",
    "num_list = [ [ 1 , 2 , 3 ] , [ 4 , 5 , 6 ] ]\n",
    "num_array = np.array(object = num_list)"
   ]
  },
  {
   "cell_type": "code",
   "execution_count": 27,
   "id": "d037d11c-cd3e-41b0-be2f-f81bd060c7dd",
   "metadata": {},
   "outputs": [
    {
     "data": {
      "text/plain": [
       "(2, 3)"
      ]
     },
     "execution_count": 27,
     "metadata": {},
     "output_type": "execute_result"
    }
   ],
   "source": [
    "np.shape(num_array)"
   ]
  },
  {
   "cell_type": "code",
   "execution_count": 26,
   "id": "5a672806-045b-4641-be83-fde0db4ae60f",
   "metadata": {},
   "outputs": [
    {
     "data": {
      "text/plain": [
       "6"
      ]
     },
     "execution_count": 26,
     "metadata": {},
     "output_type": "execute_result"
    }
   ],
   "source": [
    "np.size(num_array)"
   ]
  },
  {
   "cell_type": "markdown",
   "id": "868cac70-835d-4a2a-bb36-073aa7bcb371",
   "metadata": {},
   "source": [
    "quation 5:"
   ]
  },
  {
   "cell_type": "code",
   "execution_count": 30,
   "id": "dee86f27-8b06-4ce0-9c0a-a2dddad87610",
   "metadata": {},
   "outputs": [
    {
     "data": {
      "text/plain": [
       "array([[0., 0., 0.],\n",
       "       [0., 0., 0.],\n",
       "       [0., 0., 0.]])"
      ]
     },
     "execution_count": 30,
     "metadata": {},
     "output_type": "execute_result"
    }
   ],
   "source": [
    "np.zeros((3,3))"
   ]
  },
  {
   "cell_type": "markdown",
   "id": "1c66749f-c48d-4bb2-bebc-444cdb42bc2f",
   "metadata": {},
   "source": [
    "quation 6:"
   ]
  },
  {
   "cell_type": "code",
   "execution_count": 33,
   "id": "336f1fa1-ef9f-4e07-ad46-ef91eb7a890c",
   "metadata": {},
   "outputs": [],
   "source": [
    "iden=np.eye(5,5)"
   ]
  },
  {
   "cell_type": "code",
   "execution_count": null,
   "id": "b968df85-731b-4568-bcaa-9f8c7928c4db",
   "metadata": {},
   "outputs": [],
   "source": [
    "iden"
   ]
  }
 ],
 "metadata": {
  "kernelspec": {
   "display_name": "Python 3 (ipykernel)",
   "language": "python",
   "name": "python3"
  },
  "language_info": {
   "codemirror_mode": {
    "name": "ipython",
    "version": 3
   },
   "file_extension": ".py",
   "mimetype": "text/x-python",
   "name": "python",
   "nbconvert_exporter": "python",
   "pygments_lexer": "ipython3",
   "version": "3.10.8"
  }
 },
 "nbformat": 4,
 "nbformat_minor": 5
}
